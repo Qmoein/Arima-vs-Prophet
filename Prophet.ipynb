{
  "nbformat": 4,
  "nbformat_minor": 0,
  "metadata": {
    "colab": {
      "name": "final prophet",
      "provenance": []
    },
    "kernelspec": {
      "name": "python3",
      "display_name": "Python 3"
    }
  },
  "cells": [
    {
      "cell_type": "code",
      "metadata": {
        "id": "c89ttQEEL6JQ",
        "colab_type": "code",
        "outputId": "e8ddba90-316c-4021-f384-310df6bcc4a6",
        "colab": {
          "base_uri": "https://localhost:8080/",
          "height": 51
        }
      },
      "source": [
        "import pandas as pd\n",
        "import seaborn as sns\n",
        "import matplotlib.pyplot as plt\n",
        "from fbprophet import Prophet\n",
        "from sklearn.metrics import mean_squared_error, mean_absolute_error\n",
        "plt.style.use('fivethirtyeight') # For plots"
      ],
      "execution_count": 0,
      "outputs": [
        {
          "output_type": "stream",
          "text": [
            "/usr/local/lib/python3.6/dist-packages/statsmodels/tools/_testing.py:19: FutureWarning: pandas.util.testing is deprecated. Use the functions in the public API at pandas.testing instead.\n",
            "  import pandas.util.testing as tm\n"
          ],
          "name": "stderr"
        }
      ]
    },
    {
      "cell_type": "code",
      "metadata": {
        "id": "Uq84_aFfL9kE",
        "colab_type": "code",
        "colab": {}
      },
      "source": [
        "data = pd.read_excel('1440min.xlsx',index_col=[0], parse_dates=[0]) # We set the index column and know it has dates"
      ],
      "execution_count": 0,
      "outputs": []
    },
    {
      "cell_type": "code",
      "metadata": {
        "id": "HCF303B_o2ZP",
        "colab_type": "code",
        "outputId": "449fa594-0ba9-483e-b2e5-7c36cdc0be99",
        "colab": {
          "base_uri": "https://localhost:8080/",
          "height": 235
        }
      },
      "source": [
        "data.head()"
      ],
      "execution_count": 0,
      "outputs": [
        {
          "output_type": "execute_result",
          "data": {
            "text/html": [
              "<div>\n",
              "<style scoped>\n",
              "    .dataframe tbody tr th:only-of-type {\n",
              "        vertical-align: middle;\n",
              "    }\n",
              "\n",
              "    .dataframe tbody tr th {\n",
              "        vertical-align: top;\n",
              "    }\n",
              "\n",
              "    .dataframe thead th {\n",
              "        text-align: right;\n",
              "    }\n",
              "</style>\n",
              "<table border=\"1\" class=\"dataframe\">\n",
              "  <thead>\n",
              "    <tr style=\"text-align: right;\">\n",
              "      <th></th>\n",
              "      <th>y</th>\n",
              "    </tr>\n",
              "    <tr>\n",
              "      <th>ds</th>\n",
              "      <th></th>\n",
              "    </tr>\n",
              "  </thead>\n",
              "  <tbody>\n",
              "    <tr>\n",
              "      <th>2020-04-17</th>\n",
              "      <td>23703</td>\n",
              "    </tr>\n",
              "    <tr>\n",
              "      <th>2020-04-16</th>\n",
              "      <td>24294</td>\n",
              "    </tr>\n",
              "    <tr>\n",
              "      <th>2020-04-15</th>\n",
              "      <td>24365</td>\n",
              "    </tr>\n",
              "    <tr>\n",
              "      <th>2020-04-14</th>\n",
              "      <td>22691</td>\n",
              "    </tr>\n",
              "    <tr>\n",
              "      <th>2020-04-13</th>\n",
              "      <td>16072</td>\n",
              "    </tr>\n",
              "  </tbody>\n",
              "</table>\n",
              "</div>"
            ],
            "text/plain": [
              "                y\n",
              "ds               \n",
              "2020-04-17  23703\n",
              "2020-04-16  24294\n",
              "2020-04-15  24365\n",
              "2020-04-14  22691\n",
              "2020-04-13  16072"
            ]
          },
          "metadata": {
            "tags": []
          },
          "execution_count": 3
        }
      ]
    },
    {
      "cell_type": "code",
      "metadata": {
        "id": "802opLH98EGq",
        "colab_type": "code",
        "outputId": "7052b152-39ef-431e-9f64-5c02713757b2",
        "colab": {
          "base_uri": "https://localhost:8080/",
          "height": 385
        }
      },
      "source": [
        "data.plot(style='.', figsize=(15,5), color=[\"#1DA1F2\"], title='TimeLine')\n",
        "plt.show()"
      ],
      "execution_count": 0,
      "outputs": [
        {
          "output_type": "display_data",
          "data": {
            "image/png": "[encoded data removed]",
            "text/plain": [
              "<Figure size 1080x360 with 1 Axes>"
            ]
          },
          "metadata": {
            "tags": [],
            "needs_background": "light"
          }
        }
      ]
    },
    {
      "cell_type": "code",
      "metadata": {
        "id": "BmSyLZJ88F0a",
        "colab_type": "code",
        "colab": {}
      },
      "source": [
        "def create_features(df, label=None):\n",
        "\n",
        "    df = df.copy()\n",
        "    df['date'] = df.index\n",
        "    df['hour'] = df['date'].dt.hour\n",
        "    df['dayofweek'] = df['date'].dt.dayofweek\n",
        "    df['dayofmonth'] = df['date'].dt.day\n",
        "    \n",
        "    X = df[['hour','dayofweek','dayofmonth']]\n",
        "    if label:\n",
        "        y = df[label]\n",
        "        return X, y\n",
        "    return X\n",
        "\n",
        "X, y = create_features(data, label='y')\n",
        "\n",
        "features_and_target = pd.concat([X, y], axis=1)"
      ],
      "execution_count": 0,
      "outputs": []
    },
    {
      "cell_type": "code",
      "metadata": {
        "id": "xlVwBZSu8QsA",
        "colab_type": "code",
        "outputId": "5d34b807-338d-4823-f04f-8182a58987e5",
        "colab": {
          "base_uri": "https://localhost:8080/",
          "height": 235
        }
      },
      "source": [
        "features_and_target.head()"
      ],
      "execution_count": 0,
      "outputs": [
        {
          "output_type": "execute_result",
          "data": {
            "text/html": [
              "<div>\n",
              "<style scoped>\n",
              "    .dataframe tbody tr th:only-of-type {\n",
              "        vertical-align: middle;\n",
              "    }\n",
              "\n",
              "    .dataframe tbody tr th {\n",
              "        vertical-align: top;\n",
              "    }\n",
              "\n",
              "    .dataframe thead th {\n",
              "        text-align: right;\n",
              "    }\n",
              "</style>\n",
              "<table border=\"1\" class=\"dataframe\">\n",
              "  <thead>\n",
              "    <tr style=\"text-align: right;\">\n",
              "      <th></th>\n",
              "      <th>hour</th>\n",
              "      <th>dayofweek</th>\n",
              "      <th>dayofmonth</th>\n",
              "      <th>y</th>\n",
              "    </tr>\n",
              "    <tr>\n",
              "      <th>ds</th>\n",
              "      <th></th>\n",
              "      <th></th>\n",
              "      <th></th>\n",
              "      <th></th>\n",
              "    </tr>\n",
              "  </thead>\n",
              "  <tbody>\n",
              "    <tr>\n",
              "      <th>2020-04-17</th>\n",
              "      <td>0</td>\n",
              "      <td>4</td>\n",
              "      <td>17</td>\n",
              "      <td>23703</td>\n",
              "    </tr>\n",
              "    <tr>\n",
              "      <th>2020-04-16</th>\n",
              "      <td>0</td>\n",
              "      <td>3</td>\n",
              "      <td>16</td>\n",
              "      <td>24294</td>\n",
              "    </tr>\n",
              "    <tr>\n",
              "      <th>2020-04-15</th>\n",
              "      <td>0</td>\n",
              "      <td>2</td>\n",
              "      <td>15</td>\n",
              "      <td>24365</td>\n",
              "    </tr>\n",
              "    <tr>\n",
              "      <th>2020-04-14</th>\n",
              "      <td>0</td>\n",
              "      <td>1</td>\n",
              "      <td>14</td>\n",
              "      <td>22691</td>\n",
              "    </tr>\n",
              "    <tr>\n",
              "      <th>2020-04-13</th>\n",
              "      <td>0</td>\n",
              "      <td>0</td>\n",
              "      <td>13</td>\n",
              "      <td>16072</td>\n",
              "    </tr>\n",
              "  </tbody>\n",
              "</table>\n",
              "</div>"
            ],
            "text/plain": [
              "            hour  dayofweek  dayofmonth      y\n",
              "ds                                            \n",
              "2020-04-17     0          4          17  23703\n",
              "2020-04-16     0          3          16  24294\n",
              "2020-04-15     0          2          15  24365\n",
              "2020-04-14     0          1          14  22691\n",
              "2020-04-13     0          0          13  16072"
            ]
          },
          "metadata": {
            "tags": []
          },
          "execution_count": 6
        }
      ]
    },
    {
      "cell_type": "code",
      "metadata": {
        "id": "yiHKxTElFryd",
        "colab_type": "code",
        "colab": {}
      },
      "source": [
        "split_date = '31-mar-2020'\n",
        "data_train = data.loc[data.index <= split_date].copy()\n",
        "data_test = data.loc[data.index > split_date].copy()"
      ],
      "execution_count": 0,
      "outputs": []
    },
    {
      "cell_type": "code",
      "metadata": {
        "id": "EoBltxv5FuPj",
        "colab_type": "code",
        "outputId": "011bf93c-a706-4fa1-8564-3d646bd3372d",
        "colab": {
          "base_uri": "https://localhost:8080/",
          "height": 385
        }
      },
      "source": [
        "# Plot train and test so you can see where we have split\n",
        "data_test.rename(columns={'y': 'TEST SET'}).join(data_train.rename(columns={'y': 'TRAINING SET'}),how='outer').plot(figsize=(15,5), title='French tweets about Coronavirus', style='.')\n",
        "plt.show()"
      ],
      "execution_count": 0,
      "outputs": [
        {
          "output_type": "display_data",
          "data": {
            "image/png": "[encoded data removed]",
            "text/plain": [
              "<Figure size 1080x360 with 1 Axes>"
            ]
          },
          "metadata": {
            "tags": [],
            "needs_background": "light"
          }
        }
      ]
    },
    {
      "cell_type": "code",
      "metadata": {
        "id": "VuZ76XRTN9SX",
        "colab_type": "code",
        "outputId": "d4edc432-566e-4e89-8bc5-0f39323af9a1",
        "colab": {
          "base_uri": "https://localhost:8080/",
          "height": 235
        }
      },
      "source": [
        "# Format data for prophet model using ds and y\n",
        "data_train.head()"
      ],
      "execution_count": 0,
      "outputs": [
        {
          "output_type": "execute_result",
          "data": {
            "text/html": [
              "<div>\n",
              "<style scoped>\n",
              "    .dataframe tbody tr th:only-of-type {\n",
              "        vertical-align: middle;\n",
              "    }\n",
              "\n",
              "    .dataframe tbody tr th {\n",
              "        vertical-align: top;\n",
              "    }\n",
              "\n",
              "    .dataframe thead th {\n",
              "        text-align: right;\n",
              "    }\n",
              "</style>\n",
              "<table border=\"1\" class=\"dataframe\">\n",
              "  <thead>\n",
              "    <tr style=\"text-align: right;\">\n",
              "      <th></th>\n",
              "      <th>y</th>\n",
              "    </tr>\n",
              "    <tr>\n",
              "      <th>ds</th>\n",
              "      <th></th>\n",
              "    </tr>\n",
              "  </thead>\n",
              "  <tbody>\n",
              "    <tr>\n",
              "      <th>2020-03-31</th>\n",
              "      <td>31887</td>\n",
              "    </tr>\n",
              "    <tr>\n",
              "      <th>2020-03-30</th>\n",
              "      <td>23413</td>\n",
              "    </tr>\n",
              "    <tr>\n",
              "      <th>2020-03-29</th>\n",
              "      <td>25657</td>\n",
              "    </tr>\n",
              "    <tr>\n",
              "      <th>2020-03-28</th>\n",
              "      <td>32389</td>\n",
              "    </tr>\n",
              "    <tr>\n",
              "      <th>2020-03-27</th>\n",
              "      <td>31107</td>\n",
              "    </tr>\n",
              "  </tbody>\n",
              "</table>\n",
              "</div>"
            ],
            "text/plain": [
              "                y\n",
              "ds               \n",
              "2020-03-31  31887\n",
              "2020-03-30  23413\n",
              "2020-03-29  25657\n",
              "2020-03-28  32389\n",
              "2020-03-27  31107"
            ]
          },
          "metadata": {
            "tags": []
          },
          "execution_count": 12
        }
      ]
    },
    {
      "cell_type": "code",
      "metadata": {
        "id": "3PEDrMNLOxVn",
        "colab_type": "code",
        "outputId": "2abd9e3d-9e8d-4403-b7ec-28fd2a6f5db2",
        "colab": {
          "base_uri": "https://localhost:8080/",
          "height": 68
        }
      },
      "source": [
        "# Setup and train model and fit\n",
        "model = Prophet()\n",
        "model.fit(data_train.reset_index())"
      ],
      "execution_count": 0,
      "outputs": [
        {
          "output_type": "stream",
          "text": [
            "INFO:fbprophet:Disabling yearly seasonality. Run prophet with yearly_seasonality=True to override this.\n",
            "INFO:fbprophet:Disabling daily seasonality. Run prophet with daily_seasonality=True to override this.\n"
          ],
          "name": "stderr"
        },
        {
          "output_type": "execute_result",
          "data": {
            "text/plain": [
              "<fbprophet.forecaster.Prophet at 0x7fbb57293b70>"
            ]
          },
          "metadata": {
            "tags": []
          },
          "execution_count": 13
        }
      ]
    },
    {
      "cell_type": "code",
      "metadata": {
        "id": "mF2NPwlKO14m",
        "colab_type": "code",
        "colab": {}
      },
      "source": [
        "data_test_fcst = model.predict(df=data_test.reset_index())"
      ],
      "execution_count": 0,
      "outputs": []
    },
    {
      "cell_type": "code",
      "metadata": {
        "id": "LMYKsdj5O5kF",
        "colab_type": "code",
        "outputId": "4f0a0f9c-e357-4854-ec45-2e42acd712f9",
        "colab": {
          "base_uri": "https://localhost:8080/",
          "height": 309
        }
      },
      "source": [
        "data_test_fcst.head()"
      ],
      "execution_count": 0,
      "outputs": [
        {
          "output_type": "execute_result",
          "data": {
            "text/html": [
              "<div>\n",
              "<style scoped>\n",
              "    .dataframe tbody tr th:only-of-type {\n",
              "        vertical-align: middle;\n",
              "    }\n",
              "\n",
              "    .dataframe tbody tr th {\n",
              "        vertical-align: top;\n",
              "    }\n",
              "\n",
              "    .dataframe thead th {\n",
              "        text-align: right;\n",
              "    }\n",
              "</style>\n",
              "<table border=\"1\" class=\"dataframe\">\n",
              "  <thead>\n",
              "    <tr style=\"text-align: right;\">\n",
              "      <th></th>\n",
              "      <th>ds</th>\n",
              "      <th>trend</th>\n",
              "      <th>yhat_lower</th>\n",
              "      <th>yhat_upper</th>\n",
              "      <th>trend_lower</th>\n",
              "      <th>trend_upper</th>\n",
              "      <th>additive_terms</th>\n",
              "      <th>additive_terms_lower</th>\n",
              "      <th>additive_terms_upper</th>\n",
              "      <th>weekly</th>\n",
              "      <th>weekly_lower</th>\n",
              "      <th>weekly_upper</th>\n",
              "      <th>multiplicative_terms</th>\n",
              "      <th>multiplicative_terms_lower</th>\n",
              "      <th>multiplicative_terms_upper</th>\n",
              "      <th>yhat</th>\n",
              "    </tr>\n",
              "  </thead>\n",
              "  <tbody>\n",
              "    <tr>\n",
              "      <th>0</th>\n",
              "      <td>2020-04-01</td>\n",
              "      <td>40833.052916</td>\n",
              "      <td>33056.365206</td>\n",
              "      <td>52146.077130</td>\n",
              "      <td>40833.032264</td>\n",
              "      <td>40833.075598</td>\n",
              "      <td>2024.401453</td>\n",
              "      <td>2024.401453</td>\n",
              "      <td>2024.401453</td>\n",
              "      <td>2024.401453</td>\n",
              "      <td>2024.401453</td>\n",
              "      <td>2024.401453</td>\n",
              "      <td>0.0</td>\n",
              "      <td>0.0</td>\n",
              "      <td>0.0</td>\n",
              "      <td>42857.454368</td>\n",
              "    </tr>\n",
              "    <tr>\n",
              "      <th>1</th>\n",
              "      <td>2020-04-02</td>\n",
              "      <td>41787.996225</td>\n",
              "      <td>34820.457794</td>\n",
              "      <td>52620.748013</td>\n",
              "      <td>41787.898054</td>\n",
              "      <td>41788.086983</td>\n",
              "      <td>1910.838706</td>\n",
              "      <td>1910.838706</td>\n",
              "      <td>1910.838706</td>\n",
              "      <td>1910.838706</td>\n",
              "      <td>1910.838706</td>\n",
              "      <td>1910.838706</td>\n",
              "      <td>0.0</td>\n",
              "      <td>0.0</td>\n",
              "      <td>0.0</td>\n",
              "      <td>43698.834931</td>\n",
              "    </tr>\n",
              "    <tr>\n",
              "      <th>2</th>\n",
              "      <td>2020-04-03</td>\n",
              "      <td>42742.939535</td>\n",
              "      <td>35012.609567</td>\n",
              "      <td>54559.439403</td>\n",
              "      <td>42742.721258</td>\n",
              "      <td>42743.119484</td>\n",
              "      <td>2170.231166</td>\n",
              "      <td>2170.231166</td>\n",
              "      <td>2170.231166</td>\n",
              "      <td>2170.231166</td>\n",
              "      <td>2170.231166</td>\n",
              "      <td>2170.231166</td>\n",
              "      <td>0.0</td>\n",
              "      <td>0.0</td>\n",
              "      <td>0.0</td>\n",
              "      <td>44913.170701</td>\n",
              "    </tr>\n",
              "    <tr>\n",
              "      <th>3</th>\n",
              "      <td>2020-04-04</td>\n",
              "      <td>43697.882844</td>\n",
              "      <td>32147.217141</td>\n",
              "      <td>51536.722418</td>\n",
              "      <td>43697.526677</td>\n",
              "      <td>43698.177134</td>\n",
              "      <td>-1576.940851</td>\n",
              "      <td>-1576.940851</td>\n",
              "      <td>-1576.940851</td>\n",
              "      <td>-1576.940851</td>\n",
              "      <td>-1576.940851</td>\n",
              "      <td>-1576.940851</td>\n",
              "      <td>0.0</td>\n",
              "      <td>0.0</td>\n",
              "      <td>0.0</td>\n",
              "      <td>42120.941993</td>\n",
              "    </tr>\n",
              "    <tr>\n",
              "      <th>4</th>\n",
              "      <td>2020-04-05</td>\n",
              "      <td>44652.826154</td>\n",
              "      <td>32096.241406</td>\n",
              "      <td>50088.365332</td>\n",
              "      <td>44652.290217</td>\n",
              "      <td>44653.273364</td>\n",
              "      <td>-3544.633298</td>\n",
              "      <td>-3544.633298</td>\n",
              "      <td>-3544.633298</td>\n",
              "      <td>-3544.633298</td>\n",
              "      <td>-3544.633298</td>\n",
              "      <td>-3544.633298</td>\n",
              "      <td>0.0</td>\n",
              "      <td>0.0</td>\n",
              "      <td>0.0</td>\n",
              "      <td>41108.192856</td>\n",
              "    </tr>\n",
              "  </tbody>\n",
              "</table>\n",
              "</div>"
            ],
            "text/plain": [
              "          ds         trend  ...  multiplicative_terms_upper          yhat\n",
              "0 2020-04-01  40833.052916  ...                         0.0  42857.454368\n",
              "1 2020-04-02  41787.996225  ...                         0.0  43698.834931\n",
              "2 2020-04-03  42742.939535  ...                         0.0  44913.170701\n",
              "3 2020-04-04  43697.882844  ...                         0.0  42120.941993\n",
              "4 2020-04-05  44652.826154  ...                         0.0  41108.192856\n",
              "\n",
              "[5 rows x 16 columns]"
            ]
          },
          "metadata": {
            "tags": []
          },
          "execution_count": 15
        }
      ]
    },
    {
      "cell_type": "code",
      "metadata": {
        "id": "C8atZ-rHO-06",
        "colab_type": "code",
        "outputId": "5822e110-4b90-4f69-89b4-bf26474501cc",
        "colab": {
          "base_uri": "https://localhost:8080/",
          "height": 369
        }
      },
      "source": [
        "# Plot the forecast\n",
        "f, ax = plt.subplots(1)\n",
        "f.set_figheight(5)\n",
        "f.set_figwidth(15)\n",
        "fig = model.plot(data_test_fcst,\n",
        "                 ax=ax)\n",
        "plt.show()"
      ],
      "execution_count": 0,
      "outputs": [
        {
          "output_type": "display_data",
          "data": {
            "image/png": "[encoded data removed]",
            "text/plain": [
              "<Figure size 1080x360 with 1 Axes>"
            ]
          },
          "metadata": {
            "tags": [],
            "needs_background": "light"
          }
        }
      ]
    },
    {
      "cell_type": "code",
      "metadata": {
        "id": "t8q7Zc3XPkAX",
        "colab_type": "code",
        "outputId": "d123cd94-2419-41ef-9350-2a27d9409004",
        "colab": {
          "base_uri": "https://localhost:8080/",
          "height": 441
        }
      },
      "source": [
        "# Plot the components of the model\n",
        "fig = model.plot_components(data_test_fcst)"
      ],
      "execution_count": 0,
      "outputs": [
        {
          "output_type": "display_data",
          "data": {
            "image/png": "[encoded data removed]",
            "text/plain": [
              "<Figure size 648x432 with 2 Axes>"
            ]
          },
          "metadata": {
            "tags": []
          }
        }
      ]
    },
    {
      "cell_type": "code",
      "metadata": {
        "id": "K_XynBHqPoCe",
        "colab_type": "code",
        "outputId": "f89e171b-52f6-4d8b-e373-55c8f1a2bb02",
        "colab": {
          "base_uri": "https://localhost:8080/",
          "height": 369
        }
      },
      "source": [
        "# Plot the forecast with the actuals\n",
        "f, ax = plt.subplots(1)\n",
        "f.set_figheight(5)\n",
        "f.set_figwidth(15)\n",
        "ax.scatter(data_test.index, data_test['y'], color='r')\n",
        "fig = model.plot(data_test_fcst, ax=ax)"
      ],
      "execution_count": 0,
      "outputs": [
        {
          "output_type": "display_data",
          "data": {
            "image/png": "[encoded data removed]",
            "text/plain": [
              "<Figure size 1080x360 with 1 Axes>"
            ]
          },
          "metadata": {
            "tags": [],
            "needs_background": "light"
          }
        }
      ]
    },
    {
      "cell_type": "code",
      "metadata": {
        "id": "7aJuNCsBPsp-",
        "colab_type": "code",
        "outputId": "9fb16684-f7c6-489d-dba1-6d0ca210bc70",
        "colab": {
          "base_uri": "https://localhost:8080/",
          "height": 68
        }
      },
      "source": [
        "import numpy as np\n",
        "\n",
        "def mean_absolute_percentage_error(y_true, y_pred):\n",
        "  y_true, y_pred = np.array(y_true), np.array(y_pred)\n",
        "  return np.mean(np.abs((y_true - y_pred) / y_true)) * 100\n",
        "\n",
        "MSE = mean_squared_error(y_true=data_test['y'],\n",
        "y_pred=data_test_fcst['yhat'])\n",
        "MAE = mean_absolute_error(y_true=data_test['y'],\n",
        "y_pred=data_test_fcst['yhat'])\n",
        "MAEP = mean_absolute_percentage_error(y_true=data_test['y'],y_pred=data_test_fcst['yhat'])\n",
        "\n",
        "\n",
        "print ('MSE :',MSE)\n",
        "print ('MAE :',MAE)\n",
        "print ('MAEP', MAEP, '%')"
      ],
      "execution_count": 0,
      "outputs": [
        {
          "output_type": "stream",
          "text": [
            "MSE : 642764164.886721\n",
            "MAE : 25059.274175712362\n",
            "MAEP 111.6817512762191 %\n"
          ],
          "name": "stdout"
        }
      ]
    },
    {
      "cell_type": "code",
      "metadata": {
        "id": "dmJFIGFaQT0v",
        "colab_type": "code",
        "outputId": "1ce87682-3f33-4c8a-c858-f475bbb34101",
        "colab": {
          "base_uri": "https://localhost:8080/",
          "height": 34
        }
      },
      "source": [
        "mean_absolute_error(y_true=data_test['y'],y_pred=data_test_fcst['yhat'])"
      ],
      "execution_count": 0,
      "outputs": [
        {
          "output_type": "execute_result",
          "data": {
            "text/plain": [
              "25059.274175712362"
            ]
          },
          "metadata": {
            "tags": []
          },
          "execution_count": 20
        }
      ]
    },
    {
      "cell_type": "code",
      "metadata": {
        "id": "BNHplSNNRQmN",
        "colab_type": "code",
        "outputId": "2a6f8523-c1ab-4177-f0f2-a20900e0b9a5",
        "colab": {
          "base_uri": "https://localhost:8080/",
          "height": 35
        }
      },
      "source": [
        "import numpy as np\n",
        "def mean_absolute_percentage_error(y_true, y_pred): \n",
        "    \"\"\"Calculates MAPE given y_true and y_pred\"\"\"\n",
        "    y_true, y_pred = np.array(y_true), np.array(y_pred)\n",
        "    return np.mean(np.abs((y_true - y_pred) / y_true))\n",
        "\n",
        "mean_absolute_percentage_error(y_true=data_test['y'],y_pred=data_test_fcst['yhat'])"
      ],
      "execution_count": 0,
      "outputs": [
        {
          "output_type": "execute_result",
          "data": {
            "text/plain": [
              "1.2026928932160033"
            ]
          },
          "metadata": {
            "tags": []
          },
          "execution_count": 18
        }
      ]
    },
    {
      "cell_type": "code",
      "metadata": {
        "id": "TD8__lwQRVCe",
        "colab_type": "code",
        "outputId": "194ff93a-5d4c-41b2-cbaa-2a7091181fc7",
        "colab": {
          "base_uri": "https://localhost:8080/",
          "height": 373
        }
      },
      "source": [
        "ax = data_test_fcst.set_index('ds')['yhat'].plot(figsize=(15, 5), lw=0, style='.')\n",
        "data_test['y'].plot(ax=ax, style='x', lw=3, alpha=0.1)\n",
        "plt.legend(['Forecast','Actual'])\n",
        "plt.title('Forecast vs Actuals')\n",
        "plt.show()"
      ],
      "execution_count": 0,
      "outputs": [
        {
          "output_type": "display_data",
          "data": {
            "image/png": "[encoded data removed]",
            "text/plain": [
              "<Figure size 1080x360 with 1 Axes>"
            ]
          },
          "metadata": {
            "tags": [],
            "needs_background": "light"
          }
        }
      ]
    },
    {
      "cell_type": "markdown",
      "metadata": {
        "id": "0V9KpiN7RwNX",
        "colab_type": "text"
      },
      "source": [
        "Data Cleaning¶\n",
        "**bold text**"
      ]
    },
    {
      "cell_type": "code",
      "metadata": {
        "id": "EtGsdPj1SpQb",
        "colab_type": "code",
        "outputId": "c915a997-c920-4cc6-d028-ed3c273f28d7",
        "colab": {
          "base_uri": "https://localhost:8080/",
          "height": 385
        }
      },
      "source": [
        "ax = data_train.plot(style='.', figsize=(15,5), color=['#6387c2'],\n",
        "                     title='French tweets dataset with bad data highlighted',\n",
        "                     xlim=('03-9-2020','04-6-2020')\n",
        "                    )\n",
        "data_train.query('y > 40000').plot(style='.', figsize=(15,5), color=['#eb6b26'], ax=ax)\n",
        "ax.legend().set_visible(False)\n",
        "plt.show()"
      ],
      "execution_count": 0,
      "outputs": [
        {
          "output_type": "display_data",
          "data": {
            "image/png": "[encoded data removed]",
            "text/plain": [
              "<Figure size 1080x360 with 1 Axes>"
            ]
          },
          "metadata": {
            "tags": [],
            "needs_background": "light"
          }
        }
      ]
    },
    {
      "cell_type": "code",
      "metadata": {
        "id": "UcZr-ca9hj-2",
        "colab_type": "code",
        "outputId": "4fc64c54-09fb-4ba8-c5ff-4b099fd59e30",
        "colab": {
          "base_uri": "https://localhost:8080/",
          "height": 235
        }
      },
      "source": [
        "data_train = data_train.rename(columns = {'y':'freq'})\n",
        "data_train.index.name = 'Datetime'\n",
        "data_train.head()"
      ],
      "execution_count": 0,
      "outputs": [
        {
          "output_type": "execute_result",
          "data": {
            "text/html": [
              "<div>\n",
              "<style scoped>\n",
              "    .dataframe tbody tr th:only-of-type {\n",
              "        vertical-align: middle;\n",
              "    }\n",
              "\n",
              "    .dataframe tbody tr th {\n",
              "        vertical-align: top;\n",
              "    }\n",
              "\n",
              "    .dataframe thead th {\n",
              "        text-align: right;\n",
              "    }\n",
              "</style>\n",
              "<table border=\"1\" class=\"dataframe\">\n",
              "  <thead>\n",
              "    <tr style=\"text-align: right;\">\n",
              "      <th></th>\n",
              "      <th>freq</th>\n",
              "    </tr>\n",
              "    <tr>\n",
              "      <th>Datetime</th>\n",
              "      <th></th>\n",
              "    </tr>\n",
              "  </thead>\n",
              "  <tbody>\n",
              "    <tr>\n",
              "      <th>2020-03-31</th>\n",
              "      <td>31887</td>\n",
              "    </tr>\n",
              "    <tr>\n",
              "      <th>2020-03-30</th>\n",
              "      <td>23413</td>\n",
              "    </tr>\n",
              "    <tr>\n",
              "      <th>2020-03-29</th>\n",
              "      <td>25657</td>\n",
              "    </tr>\n",
              "    <tr>\n",
              "      <th>2020-03-28</th>\n",
              "      <td>32389</td>\n",
              "    </tr>\n",
              "    <tr>\n",
              "      <th>2020-03-27</th>\n",
              "      <td>31107</td>\n",
              "    </tr>\n",
              "  </tbody>\n",
              "</table>\n",
              "</div>"
            ],
            "text/plain": [
              "             freq\n",
              "Datetime         \n",
              "2020-03-31  31887\n",
              "2020-03-30  23413\n",
              "2020-03-29  25657\n",
              "2020-03-28  32389\n",
              "2020-03-27  31107"
            ]
          },
          "metadata": {
            "tags": []
          },
          "execution_count": 23
        }
      ]
    },
    {
      "cell_type": "code",
      "metadata": {
        "id": "W9TiLRPBj-60",
        "colab_type": "code",
        "outputId": "80815397-3fe0-4016-9276-0d2a018a76c1",
        "colab": {
          "base_uri": "https://localhost:8080/",
          "height": 51
        }
      },
      "source": [
        "# Clean Data\n",
        "import numpy as np\n",
        "data_train['data_clean'] = data_train['freq']\n",
        "data_train.loc[data_train['freq'] > 40000, 'data_clean'] = np.nan\n",
        "\n",
        "# Train model on clean data\n",
        "model = Prophet()\n",
        "model.fit(data_train.reset_index() \\\n",
        "              .rename(columns={'Datetime':'ds',\n",
        "                               'data_clean':'y'})\n",
        "         )\n",
        "         \n",
        "\n",
        "# Predict on training set with clean model\n",
        "data_test_fcst_clean = model.predict(df=data_test.reset_index() \\\n",
        "                                   .rename(columns={'Datetime':'ds'}))"
      ],
      "execution_count": 0,
      "outputs": [
        {
          "output_type": "stream",
          "text": [
            "INFO:fbprophet:Disabling yearly seasonality. Run prophet with yearly_seasonality=True to override this.\n",
            "INFO:fbprophet:Disabling daily seasonality. Run prophet with daily_seasonality=True to override this.\n"
          ],
          "name": "stderr"
        }
      ]
    },
    {
      "cell_type": "code",
      "metadata": {
        "id": "MLRnHV0vkLNj",
        "colab_type": "code",
        "outputId": "2409125a-38cf-48dc-f9b5-b8356826dc14",
        "colab": {
          "base_uri": "https://localhost:8080/",
          "height": 34
        }
      },
      "source": [
        "mse_clean = mean_squared_error(y_true=data_test['y'],\n",
        "                               y_pred=data_test_fcst_clean['yhat']\n",
        "                              )\n",
        "mae_clean = mean_absolute_error(y_true=data_test['y'],\n",
        "                                y_pred=data_test_fcst_clean['yhat']\n",
        "                               )\n",
        "mape_clean = mean_absolute_percentage_error(y_true=data_test['y'],\n",
        "                                            y_pred=data_test_fcst_clean['yhat']) \n",
        "print(f'Cleaned data model has MSE {mse_clean:0.4f} - MAE {mae_clean:0.4f} - MAPE {mape_clean:0.4f} %')"
      ],
      "execution_count": 0,
      "outputs": [
        {
          "output_type": "stream",
          "text": [
            "Cleaned data model has MSE 403540096.7412 - MAE 19715.0250 - MAPE 89.1449 %\n"
          ],
          "name": "stdout"
        }
      ]
    },
    {
      "cell_type": "code",
      "metadata": {
        "id": "5h9oT20WkWXr",
        "colab_type": "code",
        "outputId": "c0d76047-d409-4bc3-e34f-5d347d7e2bf7",
        "colab": {
          "base_uri": "https://localhost:8080/",
          "height": 373
        }
      },
      "source": [
        "ax = data_test_fcst_clean.set_index('ds')['yhat'] \\\n",
        "    .plot(figsize=(15, 5), lw=0, style='.')\n",
        "data_test['y'].plot(ax=ax, style='.', lw=0, alpha=0.2)\n",
        "plt.legend(['Forecast','Actual'])\n",
        "plt.title('Forecast vs Actuals with Cleaned Model')\n",
        "plt.show()"
      ],
      "execution_count": 0,
      "outputs": [
        {
          "output_type": "display_data",
          "data": {
            "image/png": "[encoded data removed]",
            "text/plain": [
              "<Figure size 1080x360 with 1 Axes>"
            ]
          },
          "metadata": {
            "tags": [],
            "needs_background": "light"
          }
        }
      ]
    },
    {
      "cell_type": "code",
      "metadata": {
        "id": "Btv9nEp8kjYC",
        "colab_type": "code",
        "colab": {}
      },
      "source": [
        ""
      ],
      "execution_count": 0,
      "outputs": []
    }
  ]
}